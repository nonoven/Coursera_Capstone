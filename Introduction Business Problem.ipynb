{
 "cells": [
  {
   "cell_type": "markdown",
   "metadata": {},
   "source": [
    "# The Battle of Craft Breweries in Denver"
   ]
  },
  {
   "cell_type": "markdown",
   "metadata": {},
   "source": [
    "## Introduction/Business Problem"
   ]
  },
  {
   "cell_type": "markdown",
   "metadata": {},
   "source": [
    "In 2010 there were 1754 craft breweries in US up to 6266 in 2017. The craft beer market in US and in many places in the world is booming. It represents almost 13% of the market share with $26 billion in value growth in 2017 in US and more and more breweries are opening every day. <br />\n",
    "As a quick presentation a craft brewery is a brewery that beer on a small scale (6 million barrel of beer or less per year), independent (less 25 % of the brewery is owned by a beverage alcohol industry member who is not a brewer itself), is owned by a brewer which make beer with the 4 main ingredients: water, malt, hops and yeast. <br />\n",
    "In this crowded market it could become difficult to open a premise based on the competition that will suffer the company on day one. <br />\n",
    "On this craft market, the flagship city, with Portland, is undoubtedly Denver with more than 90 craft breweries in the city (96 in early 2019). With a population estimated in 2017 of 700,000 it results in one craft brewery for every 7300 inhabitants. This situation results in a every strong competition in Mile-High City. <br />\n",
    "In this project we will analyze the current craft beer situation in Denver and review where are located the craft breweries around the city. In a second time we will assess where should a newcomer open its premise to find the good spot and aim at the same time the target population for this business: the highly educated and high salary working population to promote high sales and revenues. <br />\n",
    "(Source of the data: Brewer Association)"
   ]
  },
  {
   "cell_type": "code",
   "execution_count": null,
   "metadata": {},
   "outputs": [],
   "source": []
  }
 ],
 "metadata": {
  "kernelspec": {
   "display_name": "Python 3",
   "language": "python",
   "name": "python3"
  },
  "language_info": {
   "codemirror_mode": {
    "name": "ipython",
    "version": 3
   },
   "file_extension": ".py",
   "mimetype": "text/x-python",
   "name": "python",
   "nbconvert_exporter": "python",
   "pygments_lexer": "ipython3",
   "version": "3.6.8"
  }
 },
 "nbformat": 4,
 "nbformat_minor": 2
}
