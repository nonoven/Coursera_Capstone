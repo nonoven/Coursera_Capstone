{
 "cells": [
  {
   "cell_type": "markdown",
   "metadata": {},
   "source": [
    "# Data"
   ]
  },
  {
   "cell_type": "markdown",
   "metadata": {},
   "source": [
    "In this project several data are used. The first part is used to retrieve data, the second part is used as a complementary source to better explain what is obtained in the first part. <br />\n",
    "\n",
    "The main data consist of: <br />\n",
    "-Foursquare venues in the different neighborhoods of Denver to asses what are the different kind of venues that could be found around Denver. This includes venues like café, bar, hotel and so on. Foursquare is also used in a second time to asses where the breweries are situated in Denver. This includes brewing company, brewpub or taproom. <br />\n",
    "\n",
    "-Neighborhoods of Denver on Wikipedia. The Wikipedia page is used to obtain the different neighborhood of Denver using the web scrapping method. Some neighborhood will be discard because they are common names used by the locals but do not actually represent a neighborhood per se. <br />\n",
    "\n",
    "-On the website of the US Census (https://www.census.gov/quickfacts/denvercountycolorado) the Inhabitant revenues per neighborhood have been found and will be used to asses where are located the target customers for this study. A GeoJSON file converted from a shape file is used to delimited the neighborhoods. <br />\n",
    "\n",
    "The complementary data consist of two reports and are used as supportive informations:\n",
    "-2018 Q3 Denver Retail Market Report by Colliers International (https://www2.colliers.com/en/Research/Denver/2018-Q3-Denver-Retail-Market-Report) is used to support the data obtain during the analysis. The retail market is selected because the breweries belong to the eating and drinking market. The principal data retrieve here are the average rental rate per sector of Denver. <br />\n",
    "\n",
    "-Denver Retail Conditions and Opportunities Study by the City and County of Denver (https://www.denvergov.org/content/denvergov/en/denver-office-of-economic-development/reports-and-studies.html) is also used because it contains a study of the underserved neighborhoods of Denver which is used to asses where the brewery of the stakeholder would be better open.  <br />\n"
   ]
  }
 ],
 "metadata": {
  "kernelspec": {
   "display_name": "Python 3",
   "language": "python",
   "name": "python3"
  },
  "language_info": {
   "codemirror_mode": {
    "name": "ipython",
    "version": 3
   },
   "file_extension": ".py",
   "mimetype": "text/x-python",
   "name": "python",
   "nbconvert_exporter": "python",
   "pygments_lexer": "ipython3",
   "version": "3.6.8"
  }
 },
 "nbformat": 4,
 "nbformat_minor": 2
}
